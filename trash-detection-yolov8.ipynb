{
 "cells": [
  {
   "cell_type": "markdown",
   "metadata": {},
   "source": [
    "# Trash Object Detection Using YOLOv8"
   ]
  },
  {
   "cell_type": "markdown",
   "metadata": {},
   "source": [
    "#### Problem Statement \n",
    "Public trash inflicts severe consequences on the environment, quality of life, and long-term sustainability (EPA, 2020). As a result, this project proposes to address these challenges by building a model to deploy on a robot to identfy and collect trash.\n",
    "\n",
    "#### Purpose\n",
    "This notebook is contains the components to deploy an trash detection model using YOLOv5 and YOLOv8. The notebook includes the following: (1) Installation and Setup of YOLOv8, (2) Building and Training YOLOv8x Model on the TACO dataset, (3) YOLOv8x Model Evaluation, and (4) Trash Detection Model Deployment on Freenove Tank Robot: (a) implement real-time trash detection using the robot's camera and the trained model and (b) program the robot to move towards and pick-up trash if detected or keep searching for trash if no trash was detected. "
   ]
  },
  {
   "cell_type": "markdown",
   "metadata": {},
   "source": [
    "## Installation and Preparation"
   ]
  },
  {
   "cell_type": "markdown",
   "metadata": {},
   "source": [
    "### YOLOv8\n",
    "For information on installation and preperation, see https://github.com/mattiegisselbeck/trash-detection.\n",
    "\n",
    "The cell below are a list of CLI commands that clone the 'trash-detection' and 'yolov5' repositories, sets up a Python 3.8 Anaconda environment named 'yolov8', and installs the Ultralytics package for YOLO model development. The data from the 'trash-detection' repository should be moved to yolov5/datasets."
   ]
  },
  {
   "cell_type": "raw",
   "metadata": {},
   "source": [
    "-- CLI --\n",
    "# Clone trash-detection Repository for TACO\n",
    "git clone https://github.com/mattiegisselbeck/trash-detection\n",
    "\n",
    "# Clone yolov5 Repository\n",
    "git clone https://github.com/ultralytics/yolov5 \n",
    "\n",
    "# Create Andaconda Environment for YOLOv8\n",
    "conda create --name yolov8 python=3.8 # YOLOv9 requires Python 3.8\n",
    "conda activate yolov8\n",
    "\n",
    "# Install Requirements for YOLOv8\n",
    "pip install ultralytics"
   ]
  },
  {
   "cell_type": "markdown",
   "metadata": {},
   "source": [
    "### Build and Train YOLOv8x Model\n",
    "\n",
    "The cell below imports the YOLO class from the 'ultralytics' library. Then, creates a new model instance using the 'yolov8x.yaml' configuration file and trains the model on a dataset specified in 'data.yaml' for three epochs."
   ]
  },
  {
   "cell_type": "code",
   "execution_count": null,
   "metadata": {},
   "outputs": [],
   "source": [
    "from ultralytics import YOLO\n",
    "\n",
    "# Build Trash Detection Model\n",
    "model = YOLO(\"yolov8x.yaml\") \n",
    "\n",
    "# Train Trash Detection YOLOv8\n",
    "results = model.train(data=\"./data.yaml\", epochs=3)"
   ]
  },
  {
   "cell_type": "markdown",
   "metadata": {},
   "source": [
    "### Test YOLOv8x Model\n",
    "\n",
    "\n",
    "The code cell below loads a pre-trained YOLOv8x model for trash detection and then using it to perform object detection on a test image. The results of the detection, such as the identified objects and their locations in the image, are stored in the 'results' variable."
   ]
  },
  {
   "cell_type": "code",
   "execution_count": 3,
   "metadata": {},
   "outputs": [
    {
     "name": "stdout",
     "output_type": "stream",
     "text": [
      "\n",
      "image 1/1 /Users/mattiegisselbeck/Documents/GitHub/trash-detection/test/test0.JPG: 640x480 2 Cans, 2 Cartons, 4645.2ms\n",
      "Speed: 2.4ms preprocess, 4645.2ms inference, 0.7ms postprocess per image at shape (1, 3, 640, 480)\n"
     ]
    }
   ],
   "source": [
    "model = YOLO(\"./models/trash-detection-yolov8x.pt\") # Trash Detection YOLOv8x Model\n",
    "\n",
    "# Test Trash Detection YOLOv8x Model\n",
    "results = model(\"./test/test0.JPG\")"
   ]
  },
  {
   "cell_type": "markdown",
   "metadata": {},
   "source": [
    "### YOLOv8 on Freenove Robot / Raspberry Pi (Draft)"
   ]
  },
  {
   "cell_type": "markdown",
   "metadata": {},
   "source": [
    "The code cell(s) below are written for YOLOv8x deployment on the Freenove robot to identify trash (using the robot's camera), using the model and sensors to calculate the distance the robot needs to move in order to pick up the trash, picking up the trash, and if no trash is detected to move forward six inches. These commands will be formatted into a loop for continous trash detection."
   ]
  },
  {
   "cell_type": "code",
   "execution_count": null,
   "metadata": {},
   "outputs": [],
   "source": [
    "import os\n",
    "import time\n",
    "import pigpio\n",
    "from camera import Camera\n",
    "from motor import Motor\n",
    "from infrared import Infrared\n",
    "import RPi.GPIO as GPIO\n",
    "import time\n",
    "from Motor import *\n",
    "from servo import *\n",
    "\n",
    "class Detect:\n",
    "    def __init__(self):\n",
    "        # Initialize pigpio\n",
    "        os.system(\"sudo pigpiod\")\n",
    "        time.sleep(1)  # Wait for pigpiod to initialize\n",
    "\n",
    "        # Initialize components\n",
    "        self.camera = Camera()\n",
    "        self.motor = Motor()\n",
    "        self.infrared = Infrared()\n",
    "\n",
    "    def detect_trash(self):\n",
    "        while True:\n",
    "            trash_detected, distance = self.camera.look_for_trash()\n",
    "\n",
    "            if not trash_detected:\n",
    "                self.motor.move_forward(6)  # Move forward 6 inches\n",
    "            else:\n",
    "                self.motor.move_distance(distance)  # Move towards the trash\n",
    "                self.motor.pick_up_trash()\n",
    "                self.motor.drop_trash()\n",
    "\n",
    "                # After handling the trash, loop back to start"
   ]
  },
  {
   "cell_type": "code",
   "execution_count": null,
   "metadata": {},
   "outputs": [],
   "source": [
    "def find_trash():\n",
    "    picam2 = Picamera2()\n",
    "    preview_config = picam2.create_preview_configuration(main={\"size\": (640, 480)},transform=Transform(hflip=1,vflip=1))\n",
    "    picam2.configure(preview_config)\n",
    "    picam2.start_preview(Preview.QTGL)\n",
    "    picam2.start()\n",
    "    time.sleep(2)\n",
    "    metadata = picam2.capture_file(\"image.jpg\")\n",
    "    print(metadata)\n",
    "    picam2.close()\n",
    "    \n",
    "    # Detect \n",
    "    model = YOLO(\"/Users/mattiegisselbeck/Documents/GitHub/trashbot/runs/detect/train4/weights/best.pt\") \n",
    "    results = model(\"/path/to/image.jpg\")"
   ]
  },
  {
   "cell_type": "code",
   "execution_count": null,
   "metadata": {},
   "outputs": [],
   "source": [
    "class Move:\n",
    "    def __init__(self):        \n",
    "        GPIO.setwarnings(False)        \n",
    "        self.trigger_pin = 27\n",
    "        self.echo_pin = 22\n",
    "        self.MAX_DISTANCE = 300               # define the maximum measuring distance, unit: cm\n",
    "        self.timeOut = self.MAX_DISTANCE*60   # calculate timeout according to the maximum measuring distance\n",
    "        GPIO.setmode(GPIO.BCM)\n",
    "        GPIO.setup(self.trigger_pin,GPIO.OUT)\n",
    "        GPIO.setup(self.echo_pin,GPIO.IN)\n",
    "        \n",
    "    def pulseIn(self,pin,level,timeOut): # obtain pulse time of a pin under timeOut\n",
    "        t0 = time.time()\n",
    "        while(GPIO.input(pin) != level):\n",
    "            if((time.time() - t0) > timeOut*0.000001):\n",
    "                return 0;\n",
    "        t0 = time.time()\n",
    "        while(GPIO.input(pin) == level):\n",
    "            if((time.time() - t0) > timeOut*0.000001):\n",
    "                return 0;\n",
    "        pulseTime = (time.time() - t0)*1000000\n",
    "        return pulseTime\n",
    "    \n",
    "    def get_distance(self):     # get the measurement results of ultrasonic module,with unit: cm\n",
    "        distance_cm2=[0.0,0.0,0.0,0.0,0.0]\n",
    "        for i in range(5):\n",
    "            GPIO.output(self.trigger_pin,GPIO.HIGH)      # make trigger_pin output 10us HIGH level \n",
    "            time.sleep(0.00001)     # 10us\n",
    "            GPIO.output(self.trigger_pin,GPIO.LOW) # make trigger_pin output LOW level \n",
    "            pingTime = self.pulseIn(self.echo_pin,GPIO.HIGH,self.timeOut)   # read plus time of echo_pin\n",
    "            distance_cm2[i] = pingTime * 340.0 / 2.0 / 10000.0     # calculate distance with sound speed 340m/s\n",
    "        distance_cm2=sorted(distance_cm2)\n",
    "        return  distance_cm2[2]\n",
    "    \n",
    "    def run_motor(self,distance):\n",
    "        if(distance!=0):\n",
    "            if distance < 45 :\n",
    "                self.PWM.setMotorModel(-1500,-1500) #Back\n",
    "                time.sleep(0.4)\n",
    "                self.PWM.setMotorModel(-1500,1500)  #Left\n",
    "                time.sleep(0.2)         \n",
    "            else :\n",
    "                self.PWM.setMotorModel(1500,1500)   #Forward\n",
    "            \n",
    "    def run(self):\n",
    "        self.PWM=Motor()\n",
    "        while True:\n",
    "            distance = self.get_distance()\n",
    "            time.sleep(0.2)\n",
    "            #print (\"The distance is \"+str(distance)+\"CM\")\n",
    "            self.run_motor(distance)\n",
    "\n",
    "ultrasonic=Ultrasonic()         \n",
    "if __name__ == '__main__':     # Program entrance\n",
    "    print ('Program is starting...')\n",
    "    servo=Servo()\n",
    "    servo.setServoPwm('0',90)\n",
    "    servo.setServoPwm('1',140)\n",
    "    try:\n",
    "        ultrasonic.run()\n",
    "    except KeyboardInterrupt:  # When 'Ctrl+C' is pressed, the child program destroy() will be  executed.\n",
    "        PWM.setMotorModel(0,0)\n",
    "        servo.setServoPwm('0',90)\n",
    "        servo.setServoPwm('1',140)\n",
    "        print (\"\\nEnd of program\")"
   ]
  }
 ],
 "metadata": {
  "kernelspec": {
   "display_name": "trash-ai",
   "language": "python",
   "name": "python3"
  },
  "language_info": {
   "codemirror_mode": {
    "name": "ipython",
    "version": 3
   },
   "file_extension": ".py",
   "mimetype": "text/x-python",
   "name": "python",
   "nbconvert_exporter": "python",
   "pygments_lexer": "ipython3",
   "version": "3.8.18"
  }
 },
 "nbformat": 4,
 "nbformat_minor": 2
}
