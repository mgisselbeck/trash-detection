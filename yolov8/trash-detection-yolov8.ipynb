{
 "cells": [
  {
   "cell_type": "markdown",
   "metadata": {},
   "source": [
    "# Trash Object Detection Using YOLOv8"
   ]
  },
  {
   "cell_type": "markdown",
   "metadata": {},
   "source": [
    "Description"
   ]
  },
  {
   "cell_type": "markdown",
   "metadata": {},
   "source": [
    "## Installation and Preparation"
   ]
  },
  {
   "cell_type": "markdown",
   "metadata": {},
   "source": [
    "### YOLOv5\n",
    "For information on installation and preperation, see https://github.com/mattiegisselbeck/trash-detection."
   ]
  },
  {
   "cell_type": "raw",
   "metadata": {},
   "source": [
    "-- Terminal --\n",
    "git clone https://github.com/ultralytics/yolov5 \n",
    "\n",
    "# Create Andaconda Environment for YOLOv5 and YOLOv8\n",
    "conda create --name yolov5 python=3.8 # YOLOv5 requires Python 3.8\n",
    "conda activate yolov5\n",
    "\n",
    "# Install Requirements for YOLOv5 and YOLOv8\n",
    "cd /Users/mattiegisselbeck/yolov5\n",
    "pip install -r requirements.txt"
   ]
  },
  {
   "cell_type": "markdown",
   "metadata": {},
   "source": [
    "### TACO"
   ]
  },
  {
   "cell_type": "raw",
   "metadata": {},
   "source": [
    "-- Terminal --\n",
    "git clone https://github.com/pedropro/TACO\n",
    "\n",
    "# Install Requirements\n",
    "pip3 install -r requirements.txt \n",
    "pip3 install git+https://github.com/philferriere/cocoapi.git#subdirectory=PythonAPI\n",
    "\n",
    "# Download Dataset\n",
    "!python3 download.py\n",
    "\n",
    "# Split Dataset\n",
    "python3 split_dataset.py --dataset_dir ../data"
   ]
  },
  {
   "cell_type": "markdown",
   "metadata": {},
   "source": [
    "### Run YOLOv5"
   ]
  },
  {
   "cell_type": "code",
   "execution_count": null,
   "metadata": {},
   "outputs": [],
   "source": [
    "# Run YOLOv5 (Test)\n",
    "!python detect.py --source 0\n",
    "\n",
    "!python detect.py --weights yolov5x.pt --source 0 \n",
    "\n",
    "!yolo predict model=yolov5.pt source='https://ultralytics.com/images/bus.jpg'"
   ]
  },
  {
   "cell_type": "markdown",
   "metadata": {},
   "source": [
    "### Run YOLOv8"
   ]
  },
  {
   "cell_type": "markdown",
   "metadata": {},
   "source": [
    "\n",
    "| Model                                                                                | size<br><sup>(pixels) | mAP<sup>val<br>50-95 | Speed<br><sup>CPU ONNX<br>(ms) | Speed<br><sup>A100 TensorRT<br>(ms) | params<br><sup>(M) | FLOPs<br><sup>(B) |\n",
    "| ------------------------------------------------------------------------------------ | --------------------- | -------------------- | ------------------------------ | ----------------------------------- | ------------------ | ----------------- |\n",
    "| [YOLOv8x](https://github.com/ultralytics/assets/releases/download/v0.0.0/yolov8x.pt) | 640                   | 53.9                 | 479.1                          | 3.53                                | 68.2               | 257.8             |\n"
   ]
  },
  {
   "cell_type": "code",
   "execution_count": null,
   "metadata": {},
   "outputs": [],
   "source": [
    "from ultralytics import YOLO\n",
    "\n",
    "model = YOLO(\"./yolov8x.pt\") \n",
    "\n",
    "# Train YOLOv8\n",
    "results = model.train(data=\"./data.yaml\", epochs=3)"
   ]
  },
  {
   "cell_type": "code",
   "execution_count": null,
   "metadata": {},
   "outputs": [],
   "source": [
    "results = model(\"https://ultralytics.com/images/bus.jpg\")  # Predict (Test)"
   ]
  },
  {
   "cell_type": "markdown",
   "metadata": {},
   "source": [
    "### YOLOv8 on Freenove Robot / Raspberry Pi"
   ]
  },
  {
   "cell_type": "code",
   "execution_count": null,
   "metadata": {},
   "outputs": [],
   "source": [
    "import os\n",
    "import time\n",
    "import pigpio\n",
    "from camera import Camera\n",
    "from motor import Motor\n",
    "from infrared import Infrared\n",
    "\n",
    "class TrashBot:\n",
    "    def __init__(self):\n",
    "        # Initialize pigpio\n",
    "        os.system(\"sudo pigpiod\")\n",
    "        time.sleep(1)  # Wait for pigpiod to initialize\n",
    "\n",
    "        # Initialize components\n",
    "        self.camera = Camera()\n",
    "        self.motor = Motor()\n",
    "        self.infrared = Infrared()\n",
    "\n",
    "    def detect_trash(self):\n",
    "        while True:\n",
    "            trash_detected, distance = self.camera.look_for_trash()\n",
    "\n",
    "            if not trash_detected:\n",
    "                self.motor.move_forward(6)  # Move forward 6 inches\n",
    "            else:\n",
    "                self.motor.move_distance(distance)  # Move towards the trash\n",
    "                self.motor.pick_up_trash()\n",
    "                self.motor.drop_trash()\n",
    "\n",
    "                # After handling the trash, loop back to start"
   ]
  },
  {
   "cell_type": "markdown",
   "metadata": {},
   "source": [
    "A Markdown cell at the bottom of the notebook with 1 paragraph that explains why this\n",
    "notebook represents a MVP of your projec"
   ]
  }
 ],
 "metadata": {
  "language_info": {
   "name": "python"
  }
 },
 "nbformat": 4,
 "nbformat_minor": 2
}
